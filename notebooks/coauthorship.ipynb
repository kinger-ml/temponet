{
 "cells": [
  {
   "cell_type": "code",
   "execution_count": 1,
   "metadata": {},
   "outputs": [],
   "source": [
    "import pandas as pd\n",
    "import plotly.graph_objects as go"
   ]
  },
  {
   "cell_type": "code",
   "execution_count": 12,
   "metadata": {},
   "outputs": [],
   "source": [
    "df = pd.read_csv('../data/CUSTOM_COAUTHORSHIP/coauthors.csv')\n",
    "df.Time = pd.to_datetime(df.Time)\n",
    "df.Paper = df.Paper.apply(str)"
   ]
  },
  {
   "cell_type": "code",
   "execution_count": 13,
   "metadata": {},
   "outputs": [
    {
     "name": "stdout",
     "output_type": "stream",
     "text": [
      "['IAPR MVA' 'ICPRAM' 'CVPR' 'IEEE IV' 'CAIP' 'ICCP' 'IC3DV' 'WACV' 'ECCV'\n",
      " 'VISAPP' 'ICCV' 'ICIP' 'WSCG' 'ISMAR']\n"
     ]
    }
   ],
   "source": [
    "conferences = df.Conference.unique()\n",
    "print(conferences)"
   ]
  },
  {
   "cell_type": "code",
   "execution_count": 14,
   "metadata": {},
   "outputs": [
    {
     "name": "stdout",
     "output_type": "stream",
     "text": [
      "IAPR MVA black\n",
      "ICPRAM springgreen\n",
      "CVPR blue\n",
      "IEEE IV brown\n",
      "CAIP burlywood\n",
      "ICCP cadetblue\n",
      "IC3DV chocolate\n",
      "WACV coral\n",
      "ECCV cornflowerblue\n",
      "VISAPP orangered\n",
      "ICCV royalblue\n",
      "ICIP saddlebrown\n",
      "WSCG darkblue\n",
      "ISMAR darkcyan\n"
     ]
    },
    {
     "data": {
      "application/vnd.plotly.v1+json": {
       "config": {
        "plotlyServerURL": "https://plot.ly"
       },
       "data": [
        {
         "line": {
          "color": "black",
          "width": 2
         },
         "name": "IAPR MVA",
         "opacity": 0.5,
         "type": "scatter",
         "x": [
          "2019-05-31T00:00:00",
          "2019-05-31T00:00:00",
          "2019-05-31T00:00:00",
          "2019-05-31T00:00:00",
          "2019-05-31T00:00:00",
          "2019-05-31T00:00:00",
          "2019-05-31T00:00:00",
          "2019-05-31T00:00:00",
          "2019-05-31T00:00:00",
          "2017-03-12T00:00:00",
          "2017-03-12T00:00:00",
          "2017-03-12T00:00:00",
          "2017-03-12T00:00:00",
          "2017-03-12T00:00:00"
         ],
         "y": [
          "Jason Raphael Rambach",
          "Paul Lesur",
          "Alain Pagani",
          "Didier Stricker",
          null,
          "Vladislav Golyanik",
          "André Jonas",
          "Didier Stricker",
          null,
          "Vladislav Golyanik",
          "Gerd Reis",
          "Bertram Taetz",
          "Didier Stricker",
          null
         ]
        },
        {
         "line": {
          "color": "springgreen",
          "width": 2
         },
         "name": "ICPRAM",
         "opacity": 0.5,
         "type": "scatter",
         "x": [
          "2019-02-21T00:00:00",
          "2019-02-21T00:00:00",
          "2019-02-21T00:00:00",
          "2016-02-05T00:00:00",
          "2016-02-05T00:00:00",
          "2016-02-05T00:00:00",
          "2016-02-05T00:00:00",
          "2016-02-05T00:00:00"
         ],
         "y": [
          "Didier Stricker",
          "Kripasindhu Sarkar",
          null,
          "Aditya Tewari",
          "Frederic Grandidier",
          "Bertram Taetz",
          "Didier Stricker",
          null
         ]
        },
        {
         "line": {
          "color": "blue",
          "width": 2
         },
         "name": "CVPR",
         "opacity": 0.5,
         "type": "scatter",
         "x": [
          "2019-06-20T00:00:00",
          "2019-06-20T00:00:00",
          "2019-06-20T00:00:00",
          "2019-06-20T00:00:00",
          "2019-06-20T00:00:00"
         ],
         "y": [
          "René Schuster",
          "Oliver Wasenmüller",
          "Christian Unger",
          "Didier Stricker",
          null
         ]
        },
        {
         "line": {
          "color": "brown",
          "width": 2
         },
         "name": "IEEE IV",
         "opacity": 0.5,
         "type": "scatter",
         "x": [
          "2019-06-12T00:00:00",
          "2019-06-12T00:00:00",
          "2019-06-12T00:00:00",
          "2019-06-12T00:00:00",
          "2019-06-12T00:00:00"
         ],
         "y": [
          "Rohan Saxena",
          "René Schuster",
          "Oliver Wasenmüller",
          "Didier Stricker",
          null
         ]
        },
        {
         "line": {
          "color": "burlywood",
          "width": 2
         },
         "name": "CAIP",
         "opacity": 0.5,
         "type": "scatter",
         "x": [
          "2019-05-09T00:00:00",
          "2019-05-09T00:00:00",
          "2019-05-09T00:00:00",
          "2019-05-09T00:00:00"
         ],
         "y": [
          "Yuriy Anisimov",
          "Oliver Wasenmüller",
          "Didier Stricker",
          null
         ]
        },
        {
         "line": {
          "color": "cadetblue",
          "width": 2
         },
         "name": "ICCP",
         "opacity": 0.5,
         "type": "scatter",
         "x": [
          "2019-07-09T00:00:00",
          "2019-07-09T00:00:00",
          "2019-07-09T00:00:00",
          "2019-07-09T00:00:00"
         ],
         "y": [
          "Yuriy Anisimov",
          "Oliver Wasenmüller",
          "Didier Stricker",
          null
         ]
        },
        {
         "line": {
          "color": "chocolate",
          "width": 2
         },
         "name": "IC3DV",
         "opacity": 0.5,
         "type": "scatter",
         "x": [
          "2017-12-10T00:00:00",
          "2017-12-10T00:00:00",
          "2017-12-10T00:00:00",
          "2017-10-12T00:00:00",
          "2017-10-12T00:00:00",
          "2017-10-12T00:00:00",
          "2017-10-12T00:00:00"
         ],
         "y": [
          "Yuriy Anisimov",
          "Didier Stricker",
          null,
          "Kripasindhu Sarkar",
          "Kiran Varanasi",
          "Didier Stricker",
          null
         ]
        },
        {
         "line": {
          "color": "coral",
          "width": 2
         },
         "name": "WACV",
         "opacity": 0.5,
         "type": "scatter",
         "x": [
          "2018-03-15T00:00:00",
          "2018-03-15T00:00:00",
          "2018-03-15T00:00:00",
          "2018-03-15T00:00:00",
          "2016-03-09T00:00:00",
          "2016-03-09T00:00:00",
          "2016-03-09T00:00:00",
          "2016-03-09T00:00:00",
          "2016-03-09T00:00:00"
         ],
         "y": [
          "Kripasindhu Sarkar",
          "Kiran Varanasi",
          "Didier Stricker",
          null,
          "Bertram Taetz",
          "Gabriele Bleser",
          "Vladislav Golyanik",
          "Didier Stricker",
          null
         ]
        },
        {
         "line": {
          "color": "cornflowerblue",
          "width": 2
         },
         "name": "ECCV",
         "opacity": 0.5,
         "type": "scatter",
         "x": [
          "2019-09-14T00:00:00",
          "2019-09-14T00:00:00",
          "2019-09-14T00:00:00",
          "2019-09-14T00:00:00",
          "2019-09-14T00:00:00"
         ],
         "y": [
          "Basavaraj Hampiholi",
          "Kripasindhu Sarkar",
          "Kiran Varanasi",
          "Didier Stricker",
          null
         ]
        },
        {
         "line": {
          "color": "orangered",
          "width": 2
         },
         "name": "VISAPP",
         "opacity": 0.5,
         "type": "scatter",
         "x": [
          "2017-01-11T00:00:00",
          "2017-01-11T00:00:00",
          "2017-01-11T00:00:00",
          "2017-01-11T00:00:00",
          "2016-01-11T00:00:00",
          "2016-01-11T00:00:00",
          "2016-01-11T00:00:00",
          "2016-01-11T00:00:00",
          "2015-03-14T00:00:00",
          "2015-03-14T00:00:00",
          "2015-03-14T00:00:00",
          "2015-03-14T00:00:00"
         ],
         "y": [
          "Kripasindhu Sarkar",
          "Kiran Varanasi",
          "Didier Stricker",
          null,
          "Kripasindhu Sarkar",
          "Alain Pagani",
          "Didier Stricker",
          null,
          "Oliver Wasenmüller",
          "Gabriele Bleser",
          "Didier Stricker",
          null
         ]
        },
        {
         "line": {
          "color": "royalblue",
          "width": 2
         },
         "name": "ICCV",
         "opacity": 0.5,
         "type": "scatter",
         "x": [
          "2015-12-16T00:00:00",
          "2015-12-16T00:00:00",
          "2015-12-16T00:00:00",
          "2015-12-16T00:00:00",
          "2015-12-16T00:00:00",
          "2015-12-16T00:00:00",
          "2015-12-16T00:00:00",
          "2015-12-16T00:00:00"
         ],
         "y": [
          "Christian Bailer",
          "Bertram Taetz",
          "Didier Stricker",
          null,
          "Christian Bailer",
          "Bertram Taetz",
          "Didier Stricker",
          null
         ]
        },
        {
         "line": {
          "color": "saddlebrown",
          "width": 2
         },
         "name": "ICIP",
         "opacity": 0.5,
         "type": "scatter",
         "x": [
          "2016-09-29T00:00:00",
          "2016-09-29T00:00:00",
          "2016-09-29T00:00:00",
          "2016-09-29T00:00:00"
         ],
         "y": [
          "Vladislav Golyanik",
          "Bertram Taetz",
          "Didier Stricker",
          null
         ]
        },
        {
         "line": {
          "color": "darkblue",
          "width": 2
         },
         "name": "WSCG",
         "opacity": 0.5,
         "type": "scatter",
         "x": [
          "2015-06-01T00:00:00",
          "2015-06-01T00:00:00",
          "2015-06-01T00:00:00",
          "2015-06-01T00:00:00"
         ],
         "y": [
          "Oliver Wasenmüller",
          "Gabriele Bleser",
          "Didier Stricker",
          null
         ]
        },
        {
         "line": {
          "color": "darkcyan",
          "width": 2
         },
         "name": "ISMAR",
         "opacity": 0.5,
         "type": "scatter",
         "x": [
          "2017-10-13T00:00:00",
          "2017-10-13T00:00:00",
          "2017-10-13T00:00:00",
          "2017-10-13T00:00:00",
          "2017-10-13T00:00:00",
          "2016-09-23T00:00:00",
          "2016-09-23T00:00:00",
          "2016-09-23T00:00:00",
          "2016-09-23T00:00:00",
          "2016-09-23T00:00:00"
         ],
         "y": [
          "Aditya Tewari",
          "Bertram Taetz",
          "Frederic Grandidier",
          "Didier Stricker",
          null,
          "Jason Raphael Rambach",
          "Aditya Tewari",
          "Alain Pagani",
          "Didier Stricker",
          null
         ]
        }
       ],
       "layout": {
        "height": 600,
        "template": {
         "data": {
          "bar": [
           {
            "error_x": {
             "color": "#2a3f5f"
            },
            "error_y": {
             "color": "#2a3f5f"
            },
            "marker": {
             "line": {
              "color": "#E5ECF6",
              "width": 0.5
             }
            },
            "type": "bar"
           }
          ],
          "barpolar": [
           {
            "marker": {
             "line": {
              "color": "#E5ECF6",
              "width": 0.5
             }
            },
            "type": "barpolar"
           }
          ],
          "carpet": [
           {
            "aaxis": {
             "endlinecolor": "#2a3f5f",
             "gridcolor": "white",
             "linecolor": "white",
             "minorgridcolor": "white",
             "startlinecolor": "#2a3f5f"
            },
            "baxis": {
             "endlinecolor": "#2a3f5f",
             "gridcolor": "white",
             "linecolor": "white",
             "minorgridcolor": "white",
             "startlinecolor": "#2a3f5f"
            },
            "type": "carpet"
           }
          ],
          "choropleth": [
           {
            "colorbar": {
             "outlinewidth": 0,
             "ticks": ""
            },
            "type": "choropleth"
           }
          ],
          "contour": [
           {
            "colorbar": {
             "outlinewidth": 0,
             "ticks": ""
            },
            "colorscale": [
             [
              0,
              "#0d0887"
             ],
             [
              0.1111111111111111,
              "#46039f"
             ],
             [
              0.2222222222222222,
              "#7201a8"
             ],
             [
              0.3333333333333333,
              "#9c179e"
             ],
             [
              0.4444444444444444,
              "#bd3786"
             ],
             [
              0.5555555555555556,
              "#d8576b"
             ],
             [
              0.6666666666666666,
              "#ed7953"
             ],
             [
              0.7777777777777778,
              "#fb9f3a"
             ],
             [
              0.8888888888888888,
              "#fdca26"
             ],
             [
              1,
              "#f0f921"
             ]
            ],
            "type": "contour"
           }
          ],
          "contourcarpet": [
           {
            "colorbar": {
             "outlinewidth": 0,
             "ticks": ""
            },
            "type": "contourcarpet"
           }
          ],
          "heatmap": [
           {
            "colorbar": {
             "outlinewidth": 0,
             "ticks": ""
            },
            "colorscale": [
             [
              0,
              "#0d0887"
             ],
             [
              0.1111111111111111,
              "#46039f"
             ],
             [
              0.2222222222222222,
              "#7201a8"
             ],
             [
              0.3333333333333333,
              "#9c179e"
             ],
             [
              0.4444444444444444,
              "#bd3786"
             ],
             [
              0.5555555555555556,
              "#d8576b"
             ],
             [
              0.6666666666666666,
              "#ed7953"
             ],
             [
              0.7777777777777778,
              "#fb9f3a"
             ],
             [
              0.8888888888888888,
              "#fdca26"
             ],
             [
              1,
              "#f0f921"
             ]
            ],
            "type": "heatmap"
           }
          ],
          "heatmapgl": [
           {
            "colorbar": {
             "outlinewidth": 0,
             "ticks": ""
            },
            "colorscale": [
             [
              0,
              "#0d0887"
             ],
             [
              0.1111111111111111,
              "#46039f"
             ],
             [
              0.2222222222222222,
              "#7201a8"
             ],
             [
              0.3333333333333333,
              "#9c179e"
             ],
             [
              0.4444444444444444,
              "#bd3786"
             ],
             [
              0.5555555555555556,
              "#d8576b"
             ],
             [
              0.6666666666666666,
              "#ed7953"
             ],
             [
              0.7777777777777778,
              "#fb9f3a"
             ],
             [
              0.8888888888888888,
              "#fdca26"
             ],
             [
              1,
              "#f0f921"
             ]
            ],
            "type": "heatmapgl"
           }
          ],
          "histogram": [
           {
            "marker": {
             "colorbar": {
              "outlinewidth": 0,
              "ticks": ""
             }
            },
            "type": "histogram"
           }
          ],
          "histogram2d": [
           {
            "colorbar": {
             "outlinewidth": 0,
             "ticks": ""
            },
            "colorscale": [
             [
              0,
              "#0d0887"
             ],
             [
              0.1111111111111111,
              "#46039f"
             ],
             [
              0.2222222222222222,
              "#7201a8"
             ],
             [
              0.3333333333333333,
              "#9c179e"
             ],
             [
              0.4444444444444444,
              "#bd3786"
             ],
             [
              0.5555555555555556,
              "#d8576b"
             ],
             [
              0.6666666666666666,
              "#ed7953"
             ],
             [
              0.7777777777777778,
              "#fb9f3a"
             ],
             [
              0.8888888888888888,
              "#fdca26"
             ],
             [
              1,
              "#f0f921"
             ]
            ],
            "type": "histogram2d"
           }
          ],
          "histogram2dcontour": [
           {
            "colorbar": {
             "outlinewidth": 0,
             "ticks": ""
            },
            "colorscale": [
             [
              0,
              "#0d0887"
             ],
             [
              0.1111111111111111,
              "#46039f"
             ],
             [
              0.2222222222222222,
              "#7201a8"
             ],
             [
              0.3333333333333333,
              "#9c179e"
             ],
             [
              0.4444444444444444,
              "#bd3786"
             ],
             [
              0.5555555555555556,
              "#d8576b"
             ],
             [
              0.6666666666666666,
              "#ed7953"
             ],
             [
              0.7777777777777778,
              "#fb9f3a"
             ],
             [
              0.8888888888888888,
              "#fdca26"
             ],
             [
              1,
              "#f0f921"
             ]
            ],
            "type": "histogram2dcontour"
           }
          ],
          "mesh3d": [
           {
            "colorbar": {
             "outlinewidth": 0,
             "ticks": ""
            },
            "type": "mesh3d"
           }
          ],
          "parcoords": [
           {
            "line": {
             "colorbar": {
              "outlinewidth": 0,
              "ticks": ""
             }
            },
            "type": "parcoords"
           }
          ],
          "pie": [
           {
            "automargin": true,
            "type": "pie"
           }
          ],
          "scatter": [
           {
            "marker": {
             "colorbar": {
              "outlinewidth": 0,
              "ticks": ""
             }
            },
            "type": "scatter"
           }
          ],
          "scatter3d": [
           {
            "line": {
             "colorbar": {
              "outlinewidth": 0,
              "ticks": ""
             }
            },
            "marker": {
             "colorbar": {
              "outlinewidth": 0,
              "ticks": ""
             }
            },
            "type": "scatter3d"
           }
          ],
          "scattercarpet": [
           {
            "marker": {
             "colorbar": {
              "outlinewidth": 0,
              "ticks": ""
             }
            },
            "type": "scattercarpet"
           }
          ],
          "scattergeo": [
           {
            "marker": {
             "colorbar": {
              "outlinewidth": 0,
              "ticks": ""
             }
            },
            "type": "scattergeo"
           }
          ],
          "scattergl": [
           {
            "marker": {
             "colorbar": {
              "outlinewidth": 0,
              "ticks": ""
             }
            },
            "type": "scattergl"
           }
          ],
          "scattermapbox": [
           {
            "marker": {
             "colorbar": {
              "outlinewidth": 0,
              "ticks": ""
             }
            },
            "type": "scattermapbox"
           }
          ],
          "scatterpolar": [
           {
            "marker": {
             "colorbar": {
              "outlinewidth": 0,
              "ticks": ""
             }
            },
            "type": "scatterpolar"
           }
          ],
          "scatterpolargl": [
           {
            "marker": {
             "colorbar": {
              "outlinewidth": 0,
              "ticks": ""
             }
            },
            "type": "scatterpolargl"
           }
          ],
          "scatterternary": [
           {
            "marker": {
             "colorbar": {
              "outlinewidth": 0,
              "ticks": ""
             }
            },
            "type": "scatterternary"
           }
          ],
          "surface": [
           {
            "colorbar": {
             "outlinewidth": 0,
             "ticks": ""
            },
            "colorscale": [
             [
              0,
              "#0d0887"
             ],
             [
              0.1111111111111111,
              "#46039f"
             ],
             [
              0.2222222222222222,
              "#7201a8"
             ],
             [
              0.3333333333333333,
              "#9c179e"
             ],
             [
              0.4444444444444444,
              "#bd3786"
             ],
             [
              0.5555555555555556,
              "#d8576b"
             ],
             [
              0.6666666666666666,
              "#ed7953"
             ],
             [
              0.7777777777777778,
              "#fb9f3a"
             ],
             [
              0.8888888888888888,
              "#fdca26"
             ],
             [
              1,
              "#f0f921"
             ]
            ],
            "type": "surface"
           }
          ],
          "table": [
           {
            "cells": {
             "fill": {
              "color": "#EBF0F8"
             },
             "line": {
              "color": "white"
             }
            },
            "header": {
             "fill": {
              "color": "#C8D4E3"
             },
             "line": {
              "color": "white"
             }
            },
            "type": "table"
           }
          ]
         },
         "layout": {
          "annotationdefaults": {
           "arrowcolor": "#2a3f5f",
           "arrowhead": 0,
           "arrowwidth": 1
          },
          "coloraxis": {
           "colorbar": {
            "outlinewidth": 0,
            "ticks": ""
           }
          },
          "colorscale": {
           "diverging": [
            [
             0,
             "#8e0152"
            ],
            [
             0.1,
             "#c51b7d"
            ],
            [
             0.2,
             "#de77ae"
            ],
            [
             0.3,
             "#f1b6da"
            ],
            [
             0.4,
             "#fde0ef"
            ],
            [
             0.5,
             "#f7f7f7"
            ],
            [
             0.6,
             "#e6f5d0"
            ],
            [
             0.7,
             "#b8e186"
            ],
            [
             0.8,
             "#7fbc41"
            ],
            [
             0.9,
             "#4d9221"
            ],
            [
             1,
             "#276419"
            ]
           ],
           "sequential": [
            [
             0,
             "#0d0887"
            ],
            [
             0.1111111111111111,
             "#46039f"
            ],
            [
             0.2222222222222222,
             "#7201a8"
            ],
            [
             0.3333333333333333,
             "#9c179e"
            ],
            [
             0.4444444444444444,
             "#bd3786"
            ],
            [
             0.5555555555555556,
             "#d8576b"
            ],
            [
             0.6666666666666666,
             "#ed7953"
            ],
            [
             0.7777777777777778,
             "#fb9f3a"
            ],
            [
             0.8888888888888888,
             "#fdca26"
            ],
            [
             1,
             "#f0f921"
            ]
           ],
           "sequentialminus": [
            [
             0,
             "#0d0887"
            ],
            [
             0.1111111111111111,
             "#46039f"
            ],
            [
             0.2222222222222222,
             "#7201a8"
            ],
            [
             0.3333333333333333,
             "#9c179e"
            ],
            [
             0.4444444444444444,
             "#bd3786"
            ],
            [
             0.5555555555555556,
             "#d8576b"
            ],
            [
             0.6666666666666666,
             "#ed7953"
            ],
            [
             0.7777777777777778,
             "#fb9f3a"
            ],
            [
             0.8888888888888888,
             "#fdca26"
            ],
            [
             1,
             "#f0f921"
            ]
           ]
          },
          "colorway": [
           "#636efa",
           "#EF553B",
           "#00cc96",
           "#ab63fa",
           "#FFA15A",
           "#19d3f3",
           "#FF6692",
           "#B6E880",
           "#FF97FF",
           "#FECB52"
          ],
          "font": {
           "color": "#2a3f5f"
          },
          "geo": {
           "bgcolor": "white",
           "lakecolor": "white",
           "landcolor": "#E5ECF6",
           "showlakes": true,
           "showland": true,
           "subunitcolor": "white"
          },
          "hoverlabel": {
           "align": "left"
          },
          "hovermode": "closest",
          "mapbox": {
           "style": "light"
          },
          "paper_bgcolor": "white",
          "plot_bgcolor": "#E5ECF6",
          "polar": {
           "angularaxis": {
            "gridcolor": "white",
            "linecolor": "white",
            "ticks": ""
           },
           "bgcolor": "#E5ECF6",
           "radialaxis": {
            "gridcolor": "white",
            "linecolor": "white",
            "ticks": ""
           }
          },
          "scene": {
           "xaxis": {
            "backgroundcolor": "#E5ECF6",
            "gridcolor": "white",
            "gridwidth": 2,
            "linecolor": "white",
            "showbackground": true,
            "ticks": "",
            "zerolinecolor": "white"
           },
           "yaxis": {
            "backgroundcolor": "#E5ECF6",
            "gridcolor": "white",
            "gridwidth": 2,
            "linecolor": "white",
            "showbackground": true,
            "ticks": "",
            "zerolinecolor": "white"
           },
           "zaxis": {
            "backgroundcolor": "#E5ECF6",
            "gridcolor": "white",
            "gridwidth": 2,
            "linecolor": "white",
            "showbackground": true,
            "ticks": "",
            "zerolinecolor": "white"
           }
          },
          "shapedefaults": {
           "line": {
            "color": "#2a3f5f"
           }
          },
          "ternary": {
           "aaxis": {
            "gridcolor": "white",
            "linecolor": "white",
            "ticks": ""
           },
           "baxis": {
            "gridcolor": "white",
            "linecolor": "white",
            "ticks": ""
           },
           "bgcolor": "#E5ECF6",
           "caxis": {
            "gridcolor": "white",
            "linecolor": "white",
            "ticks": ""
           }
          },
          "title": {
           "x": 0.05
          },
          "xaxis": {
           "automargin": true,
           "gridcolor": "white",
           "linecolor": "white",
           "ticks": "",
           "title": {
            "standoff": 15
           },
           "zerolinecolor": "white",
           "zerolinewidth": 2
          },
          "yaxis": {
           "automargin": true,
           "gridcolor": "white",
           "linecolor": "white",
           "ticks": "",
           "title": {
            "standoff": 15
           },
           "zerolinecolor": "white",
           "zerolinewidth": 2
          }
         }
        },
        "xaxis": {
         "side": "top"
        }
       }
      },
      "text/html": [
       "<div>\n",
       "        \n",
       "        \n",
       "            <div id=\"8c55e508-bd34-484b-96b1-90767cf3875e\" class=\"plotly-graph-div\" style=\"height:600px; width:100%;\"></div>\n",
       "            <script type=\"text/javascript\">\n",
       "                require([\"plotly\"], function(Plotly) {\n",
       "                    window.PLOTLYENV=window.PLOTLYENV || {};\n",
       "                    \n",
       "                if (document.getElementById(\"8c55e508-bd34-484b-96b1-90767cf3875e\")) {\n",
       "                    Plotly.newPlot(\n",
       "                        '8c55e508-bd34-484b-96b1-90767cf3875e',\n",
       "                        [{\"line\": {\"color\": \"black\", \"width\": 2}, \"name\": \"IAPR MVA\", \"opacity\": 0.5, \"type\": \"scatter\", \"x\": [\"2019-05-31T00:00:00\", \"2019-05-31T00:00:00\", \"2019-05-31T00:00:00\", \"2019-05-31T00:00:00\", \"2019-05-31T00:00:00\", \"2019-05-31T00:00:00\", \"2019-05-31T00:00:00\", \"2019-05-31T00:00:00\", \"2019-05-31T00:00:00\", \"2017-03-12T00:00:00\", \"2017-03-12T00:00:00\", \"2017-03-12T00:00:00\", \"2017-03-12T00:00:00\", \"2017-03-12T00:00:00\"], \"y\": [\"Jason Raphael Rambach\", \"Paul Lesur\", \"Alain Pagani\", \"Didier Stricker\", null, \"Vladislav Golyanik\", \"Andr\\u00e9 Jonas\", \"Didier Stricker\", null, \"Vladislav Golyanik\", \"Gerd Reis\", \"Bertram Taetz\", \"Didier Stricker\", null]}, {\"line\": {\"color\": \"springgreen\", \"width\": 2}, \"name\": \"ICPRAM\", \"opacity\": 0.5, \"type\": \"scatter\", \"x\": [\"2019-02-21T00:00:00\", \"2019-02-21T00:00:00\", \"2019-02-21T00:00:00\", \"2016-02-05T00:00:00\", \"2016-02-05T00:00:00\", \"2016-02-05T00:00:00\", \"2016-02-05T00:00:00\", \"2016-02-05T00:00:00\"], \"y\": [\"Didier Stricker\", \"Kripasindhu Sarkar\", null, \"Aditya Tewari\", \"Frederic Grandidier\", \"Bertram Taetz\", \"Didier Stricker\", null]}, {\"line\": {\"color\": \"blue\", \"width\": 2}, \"name\": \"CVPR\", \"opacity\": 0.5, \"type\": \"scatter\", \"x\": [\"2019-06-20T00:00:00\", \"2019-06-20T00:00:00\", \"2019-06-20T00:00:00\", \"2019-06-20T00:00:00\", \"2019-06-20T00:00:00\"], \"y\": [\"Ren\\u00e9 Schuster\", \"Oliver Wasenm\\u00fcller\", \"Christian Unger\", \"Didier Stricker\", null]}, {\"line\": {\"color\": \"brown\", \"width\": 2}, \"name\": \"IEEE IV\", \"opacity\": 0.5, \"type\": \"scatter\", \"x\": [\"2019-06-12T00:00:00\", \"2019-06-12T00:00:00\", \"2019-06-12T00:00:00\", \"2019-06-12T00:00:00\", \"2019-06-12T00:00:00\"], \"y\": [\"Rohan Saxena\", \"Ren\\u00e9 Schuster\", \"Oliver Wasenm\\u00fcller\", \"Didier Stricker\", null]}, {\"line\": {\"color\": \"burlywood\", \"width\": 2}, \"name\": \"CAIP\", \"opacity\": 0.5, \"type\": \"scatter\", \"x\": [\"2019-05-09T00:00:00\", \"2019-05-09T00:00:00\", \"2019-05-09T00:00:00\", \"2019-05-09T00:00:00\"], \"y\": [\"Yuriy Anisimov\", \"Oliver Wasenm\\u00fcller\", \"Didier Stricker\", null]}, {\"line\": {\"color\": \"cadetblue\", \"width\": 2}, \"name\": \"ICCP\", \"opacity\": 0.5, \"type\": \"scatter\", \"x\": [\"2019-07-09T00:00:00\", \"2019-07-09T00:00:00\", \"2019-07-09T00:00:00\", \"2019-07-09T00:00:00\"], \"y\": [\"Yuriy Anisimov\", \"Oliver Wasenm\\u00fcller\", \"Didier Stricker\", null]}, {\"line\": {\"color\": \"chocolate\", \"width\": 2}, \"name\": \"IC3DV\", \"opacity\": 0.5, \"type\": \"scatter\", \"x\": [\"2017-12-10T00:00:00\", \"2017-12-10T00:00:00\", \"2017-12-10T00:00:00\", \"2017-10-12T00:00:00\", \"2017-10-12T00:00:00\", \"2017-10-12T00:00:00\", \"2017-10-12T00:00:00\"], \"y\": [\"Yuriy Anisimov\", \"Didier Stricker\", null, \"Kripasindhu Sarkar\", \"Kiran Varanasi\", \"Didier Stricker\", null]}, {\"line\": {\"color\": \"coral\", \"width\": 2}, \"name\": \"WACV\", \"opacity\": 0.5, \"type\": \"scatter\", \"x\": [\"2018-03-15T00:00:00\", \"2018-03-15T00:00:00\", \"2018-03-15T00:00:00\", \"2018-03-15T00:00:00\", \"2016-03-09T00:00:00\", \"2016-03-09T00:00:00\", \"2016-03-09T00:00:00\", \"2016-03-09T00:00:00\", \"2016-03-09T00:00:00\"], \"y\": [\"Kripasindhu Sarkar\", \"Kiran Varanasi\", \"Didier Stricker\", null, \"Bertram Taetz\", \"Gabriele Bleser\", \"Vladislav Golyanik\", \"Didier Stricker\", null]}, {\"line\": {\"color\": \"cornflowerblue\", \"width\": 2}, \"name\": \"ECCV\", \"opacity\": 0.5, \"type\": \"scatter\", \"x\": [\"2019-09-14T00:00:00\", \"2019-09-14T00:00:00\", \"2019-09-14T00:00:00\", \"2019-09-14T00:00:00\", \"2019-09-14T00:00:00\"], \"y\": [\"Basavaraj Hampiholi\", \"Kripasindhu Sarkar\", \"Kiran Varanasi\", \"Didier Stricker\", null]}, {\"line\": {\"color\": \"orangered\", \"width\": 2}, \"name\": \"VISAPP\", \"opacity\": 0.5, \"type\": \"scatter\", \"x\": [\"2017-01-11T00:00:00\", \"2017-01-11T00:00:00\", \"2017-01-11T00:00:00\", \"2017-01-11T00:00:00\", \"2016-01-11T00:00:00\", \"2016-01-11T00:00:00\", \"2016-01-11T00:00:00\", \"2016-01-11T00:00:00\", \"2015-03-14T00:00:00\", \"2015-03-14T00:00:00\", \"2015-03-14T00:00:00\", \"2015-03-14T00:00:00\"], \"y\": [\"Kripasindhu Sarkar\", \"Kiran Varanasi\", \"Didier Stricker\", null, \"Kripasindhu Sarkar\", \"Alain Pagani\", \"Didier Stricker\", null, \"Oliver Wasenm\\u00fcller\", \"Gabriele Bleser\", \"Didier Stricker\", null]}, {\"line\": {\"color\": \"royalblue\", \"width\": 2}, \"name\": \"ICCV\", \"opacity\": 0.5, \"type\": \"scatter\", \"x\": [\"2015-12-16T00:00:00\", \"2015-12-16T00:00:00\", \"2015-12-16T00:00:00\", \"2015-12-16T00:00:00\", \"2015-12-16T00:00:00\", \"2015-12-16T00:00:00\", \"2015-12-16T00:00:00\", \"2015-12-16T00:00:00\"], \"y\": [\"Christian Bailer\", \"Bertram Taetz\", \"Didier Stricker\", null, \"Christian Bailer\", \"Bertram Taetz\", \"Didier Stricker\", null]}, {\"line\": {\"color\": \"saddlebrown\", \"width\": 2}, \"name\": \"ICIP\", \"opacity\": 0.5, \"type\": \"scatter\", \"x\": [\"2016-09-29T00:00:00\", \"2016-09-29T00:00:00\", \"2016-09-29T00:00:00\", \"2016-09-29T00:00:00\"], \"y\": [\"Vladislav Golyanik\", \"Bertram Taetz\", \"Didier Stricker\", null]}, {\"line\": {\"color\": \"darkblue\", \"width\": 2}, \"name\": \"WSCG\", \"opacity\": 0.5, \"type\": \"scatter\", \"x\": [\"2015-06-01T00:00:00\", \"2015-06-01T00:00:00\", \"2015-06-01T00:00:00\", \"2015-06-01T00:00:00\"], \"y\": [\"Oliver Wasenm\\u00fcller\", \"Gabriele Bleser\", \"Didier Stricker\", null]}, {\"line\": {\"color\": \"darkcyan\", \"width\": 2}, \"name\": \"ISMAR\", \"opacity\": 0.5, \"type\": \"scatter\", \"x\": [\"2017-10-13T00:00:00\", \"2017-10-13T00:00:00\", \"2017-10-13T00:00:00\", \"2017-10-13T00:00:00\", \"2017-10-13T00:00:00\", \"2016-09-23T00:00:00\", \"2016-09-23T00:00:00\", \"2016-09-23T00:00:00\", \"2016-09-23T00:00:00\", \"2016-09-23T00:00:00\"], \"y\": [\"Aditya Tewari\", \"Bertram Taetz\", \"Frederic Grandidier\", \"Didier Stricker\", null, \"Jason Raphael Rambach\", \"Aditya Tewari\", \"Alain Pagani\", \"Didier Stricker\", null]}],\n",
       "                        {\"height\": 600, \"template\": {\"data\": {\"bar\": [{\"error_x\": {\"color\": \"#2a3f5f\"}, \"error_y\": {\"color\": \"#2a3f5f\"}, \"marker\": {\"line\": {\"color\": \"#E5ECF6\", \"width\": 0.5}}, \"type\": \"bar\"}], \"barpolar\": [{\"marker\": {\"line\": {\"color\": \"#E5ECF6\", \"width\": 0.5}}, \"type\": \"barpolar\"}], \"carpet\": [{\"aaxis\": {\"endlinecolor\": \"#2a3f5f\", \"gridcolor\": \"white\", \"linecolor\": \"white\", \"minorgridcolor\": \"white\", \"startlinecolor\": \"#2a3f5f\"}, \"baxis\": {\"endlinecolor\": \"#2a3f5f\", \"gridcolor\": \"white\", \"linecolor\": \"white\", \"minorgridcolor\": \"white\", \"startlinecolor\": \"#2a3f5f\"}, \"type\": \"carpet\"}], \"choropleth\": [{\"colorbar\": {\"outlinewidth\": 0, \"ticks\": \"\"}, \"type\": \"choropleth\"}], \"contour\": [{\"colorbar\": {\"outlinewidth\": 0, \"ticks\": \"\"}, \"colorscale\": [[0.0, \"#0d0887\"], [0.1111111111111111, \"#46039f\"], [0.2222222222222222, \"#7201a8\"], [0.3333333333333333, \"#9c179e\"], [0.4444444444444444, \"#bd3786\"], [0.5555555555555556, \"#d8576b\"], [0.6666666666666666, \"#ed7953\"], [0.7777777777777778, \"#fb9f3a\"], [0.8888888888888888, \"#fdca26\"], [1.0, \"#f0f921\"]], \"type\": \"contour\"}], \"contourcarpet\": [{\"colorbar\": {\"outlinewidth\": 0, \"ticks\": \"\"}, \"type\": \"contourcarpet\"}], \"heatmap\": [{\"colorbar\": {\"outlinewidth\": 0, \"ticks\": \"\"}, \"colorscale\": [[0.0, \"#0d0887\"], [0.1111111111111111, \"#46039f\"], [0.2222222222222222, \"#7201a8\"], [0.3333333333333333, \"#9c179e\"], [0.4444444444444444, \"#bd3786\"], [0.5555555555555556, \"#d8576b\"], [0.6666666666666666, \"#ed7953\"], [0.7777777777777778, \"#fb9f3a\"], [0.8888888888888888, \"#fdca26\"], [1.0, \"#f0f921\"]], \"type\": \"heatmap\"}], \"heatmapgl\": [{\"colorbar\": {\"outlinewidth\": 0, \"ticks\": \"\"}, \"colorscale\": [[0.0, \"#0d0887\"], [0.1111111111111111, \"#46039f\"], [0.2222222222222222, \"#7201a8\"], [0.3333333333333333, \"#9c179e\"], [0.4444444444444444, \"#bd3786\"], [0.5555555555555556, \"#d8576b\"], [0.6666666666666666, \"#ed7953\"], [0.7777777777777778, \"#fb9f3a\"], [0.8888888888888888, \"#fdca26\"], [1.0, \"#f0f921\"]], \"type\": \"heatmapgl\"}], \"histogram\": [{\"marker\": {\"colorbar\": {\"outlinewidth\": 0, \"ticks\": \"\"}}, \"type\": \"histogram\"}], \"histogram2d\": [{\"colorbar\": {\"outlinewidth\": 0, \"ticks\": \"\"}, \"colorscale\": [[0.0, \"#0d0887\"], [0.1111111111111111, \"#46039f\"], [0.2222222222222222, \"#7201a8\"], [0.3333333333333333, \"#9c179e\"], [0.4444444444444444, \"#bd3786\"], [0.5555555555555556, \"#d8576b\"], [0.6666666666666666, \"#ed7953\"], [0.7777777777777778, \"#fb9f3a\"], [0.8888888888888888, \"#fdca26\"], [1.0, \"#f0f921\"]], \"type\": \"histogram2d\"}], \"histogram2dcontour\": [{\"colorbar\": {\"outlinewidth\": 0, \"ticks\": \"\"}, \"colorscale\": [[0.0, \"#0d0887\"], [0.1111111111111111, \"#46039f\"], [0.2222222222222222, \"#7201a8\"], [0.3333333333333333, \"#9c179e\"], [0.4444444444444444, \"#bd3786\"], [0.5555555555555556, \"#d8576b\"], [0.6666666666666666, \"#ed7953\"], [0.7777777777777778, \"#fb9f3a\"], [0.8888888888888888, \"#fdca26\"], [1.0, \"#f0f921\"]], \"type\": \"histogram2dcontour\"}], \"mesh3d\": [{\"colorbar\": {\"outlinewidth\": 0, \"ticks\": \"\"}, \"type\": \"mesh3d\"}], \"parcoords\": [{\"line\": {\"colorbar\": {\"outlinewidth\": 0, \"ticks\": \"\"}}, \"type\": \"parcoords\"}], \"pie\": [{\"automargin\": true, \"type\": \"pie\"}], \"scatter\": [{\"marker\": {\"colorbar\": {\"outlinewidth\": 0, \"ticks\": \"\"}}, \"type\": \"scatter\"}], \"scatter3d\": [{\"line\": {\"colorbar\": {\"outlinewidth\": 0, \"ticks\": \"\"}}, \"marker\": {\"colorbar\": {\"outlinewidth\": 0, \"ticks\": \"\"}}, \"type\": \"scatter3d\"}], \"scattercarpet\": [{\"marker\": {\"colorbar\": {\"outlinewidth\": 0, \"ticks\": \"\"}}, \"type\": \"scattercarpet\"}], \"scattergeo\": [{\"marker\": {\"colorbar\": {\"outlinewidth\": 0, \"ticks\": \"\"}}, \"type\": \"scattergeo\"}], \"scattergl\": [{\"marker\": {\"colorbar\": {\"outlinewidth\": 0, \"ticks\": \"\"}}, \"type\": \"scattergl\"}], \"scattermapbox\": [{\"marker\": {\"colorbar\": {\"outlinewidth\": 0, \"ticks\": \"\"}}, \"type\": \"scattermapbox\"}], \"scatterpolar\": [{\"marker\": {\"colorbar\": {\"outlinewidth\": 0, \"ticks\": \"\"}}, \"type\": \"scatterpolar\"}], \"scatterpolargl\": [{\"marker\": {\"colorbar\": {\"outlinewidth\": 0, \"ticks\": \"\"}}, \"type\": \"scatterpolargl\"}], \"scatterternary\": [{\"marker\": {\"colorbar\": {\"outlinewidth\": 0, \"ticks\": \"\"}}, \"type\": \"scatterternary\"}], \"surface\": [{\"colorbar\": {\"outlinewidth\": 0, \"ticks\": \"\"}, \"colorscale\": [[0.0, \"#0d0887\"], [0.1111111111111111, \"#46039f\"], [0.2222222222222222, \"#7201a8\"], [0.3333333333333333, \"#9c179e\"], [0.4444444444444444, \"#bd3786\"], [0.5555555555555556, \"#d8576b\"], [0.6666666666666666, \"#ed7953\"], [0.7777777777777778, \"#fb9f3a\"], [0.8888888888888888, \"#fdca26\"], [1.0, \"#f0f921\"]], \"type\": \"surface\"}], \"table\": [{\"cells\": {\"fill\": {\"color\": \"#EBF0F8\"}, \"line\": {\"color\": \"white\"}}, \"header\": {\"fill\": {\"color\": \"#C8D4E3\"}, \"line\": {\"color\": \"white\"}}, \"type\": \"table\"}]}, \"layout\": {\"annotationdefaults\": {\"arrowcolor\": \"#2a3f5f\", \"arrowhead\": 0, \"arrowwidth\": 1}, \"coloraxis\": {\"colorbar\": {\"outlinewidth\": 0, \"ticks\": \"\"}}, \"colorscale\": {\"diverging\": [[0, \"#8e0152\"], [0.1, \"#c51b7d\"], [0.2, \"#de77ae\"], [0.3, \"#f1b6da\"], [0.4, \"#fde0ef\"], [0.5, \"#f7f7f7\"], [0.6, \"#e6f5d0\"], [0.7, \"#b8e186\"], [0.8, \"#7fbc41\"], [0.9, \"#4d9221\"], [1, \"#276419\"]], \"sequential\": [[0.0, \"#0d0887\"], [0.1111111111111111, \"#46039f\"], [0.2222222222222222, \"#7201a8\"], [0.3333333333333333, \"#9c179e\"], [0.4444444444444444, \"#bd3786\"], [0.5555555555555556, \"#d8576b\"], [0.6666666666666666, \"#ed7953\"], [0.7777777777777778, \"#fb9f3a\"], [0.8888888888888888, \"#fdca26\"], [1.0, \"#f0f921\"]], \"sequentialminus\": [[0.0, \"#0d0887\"], [0.1111111111111111, \"#46039f\"], [0.2222222222222222, \"#7201a8\"], [0.3333333333333333, \"#9c179e\"], [0.4444444444444444, \"#bd3786\"], [0.5555555555555556, \"#d8576b\"], [0.6666666666666666, \"#ed7953\"], [0.7777777777777778, \"#fb9f3a\"], [0.8888888888888888, \"#fdca26\"], [1.0, \"#f0f921\"]]}, \"colorway\": [\"#636efa\", \"#EF553B\", \"#00cc96\", \"#ab63fa\", \"#FFA15A\", \"#19d3f3\", \"#FF6692\", \"#B6E880\", \"#FF97FF\", \"#FECB52\"], \"font\": {\"color\": \"#2a3f5f\"}, \"geo\": {\"bgcolor\": \"white\", \"lakecolor\": \"white\", \"landcolor\": \"#E5ECF6\", \"showlakes\": true, \"showland\": true, \"subunitcolor\": \"white\"}, \"hoverlabel\": {\"align\": \"left\"}, \"hovermode\": \"closest\", \"mapbox\": {\"style\": \"light\"}, \"paper_bgcolor\": \"white\", \"plot_bgcolor\": \"#E5ECF6\", \"polar\": {\"angularaxis\": {\"gridcolor\": \"white\", \"linecolor\": \"white\", \"ticks\": \"\"}, \"bgcolor\": \"#E5ECF6\", \"radialaxis\": {\"gridcolor\": \"white\", \"linecolor\": \"white\", \"ticks\": \"\"}}, \"scene\": {\"xaxis\": {\"backgroundcolor\": \"#E5ECF6\", \"gridcolor\": \"white\", \"gridwidth\": 2, \"linecolor\": \"white\", \"showbackground\": true, \"ticks\": \"\", \"zerolinecolor\": \"white\"}, \"yaxis\": {\"backgroundcolor\": \"#E5ECF6\", \"gridcolor\": \"white\", \"gridwidth\": 2, \"linecolor\": \"white\", \"showbackground\": true, \"ticks\": \"\", \"zerolinecolor\": \"white\"}, \"zaxis\": {\"backgroundcolor\": \"#E5ECF6\", \"gridcolor\": \"white\", \"gridwidth\": 2, \"linecolor\": \"white\", \"showbackground\": true, \"ticks\": \"\", \"zerolinecolor\": \"white\"}}, \"shapedefaults\": {\"line\": {\"color\": \"#2a3f5f\"}}, \"ternary\": {\"aaxis\": {\"gridcolor\": \"white\", \"linecolor\": \"white\", \"ticks\": \"\"}, \"baxis\": {\"gridcolor\": \"white\", \"linecolor\": \"white\", \"ticks\": \"\"}, \"bgcolor\": \"#E5ECF6\", \"caxis\": {\"gridcolor\": \"white\", \"linecolor\": \"white\", \"ticks\": \"\"}}, \"title\": {\"x\": 0.05}, \"xaxis\": {\"automargin\": true, \"gridcolor\": \"white\", \"linecolor\": \"white\", \"ticks\": \"\", \"title\": {\"standoff\": 15}, \"zerolinecolor\": \"white\", \"zerolinewidth\": 2}, \"yaxis\": {\"automargin\": true, \"gridcolor\": \"white\", \"linecolor\": \"white\", \"ticks\": \"\", \"title\": {\"standoff\": 15}, \"zerolinecolor\": \"white\", \"zerolinewidth\": 2}}}, \"xaxis\": {\"side\": \"top\"}},\n",
       "                        {\"responsive\": true}\n",
       "                    ).then(function(){\n",
       "                            \n",
       "var gd = document.getElementById('8c55e508-bd34-484b-96b1-90767cf3875e');\n",
       "var x = new MutationObserver(function (mutations, observer) {{\n",
       "        var display = window.getComputedStyle(gd).display;\n",
       "        if (!display || display === 'none') {{\n",
       "            console.log([gd, 'removed!']);\n",
       "            Plotly.purge(gd);\n",
       "            observer.disconnect();\n",
       "        }}\n",
       "}});\n",
       "\n",
       "// Listen for the removal of the full notebook cells\n",
       "var notebookContainer = gd.closest('#notebook-container');\n",
       "if (notebookContainer) {{\n",
       "    x.observe(notebookContainer, {childList: true});\n",
       "}}\n",
       "\n",
       "// Listen for the clearing of the current output cell\n",
       "var outputEl = gd.closest('.output');\n",
       "if (outputEl) {{\n",
       "    x.observe(outputEl, {childList: true});\n",
       "}}\n",
       "\n",
       "                        })\n",
       "                };\n",
       "                });\n",
       "            </script>\n",
       "        </div>"
      ]
     },
     "metadata": {},
     "output_type": "display_data"
    }
   ],
   "source": [
    "colors = ['black', 'springgreen', 'blue', 'brown', 'burlywood', 'cadetblue', 'chocolate', 'coral', 'cornflowerblue','orangered', 'royalblue', 'saddlebrown',\n",
    "        'darkblue', 'darkcyan','darkgoldenrod', 'darkgray', 'maroon', 'darkgreen',\n",
    "         'orange', 'salmon', 'sandybrown']\n",
    "fig1 = go.Figure()\n",
    "i=0\n",
    "for conference in conferences:\n",
    "    temp = df[df.Conference == conference]\n",
    "    papers = temp.Paper.unique()\n",
    "    tim_arr, y_arr = [],[]\n",
    "    for paper in papers:\n",
    "        df1 = temp[temp.Paper == paper]\n",
    "        tim_arr.extend([df1.Time.iloc[0]]*(len(df1)+1))\n",
    "        y_arr.extend(df1.Author.tolist())\n",
    "        y_arr.append(None)\n",
    "    fig1.add_trace(go.Scatter(x = tim_arr, y = y_arr, opacity = 0.5, name=conference, line=dict(width=2, color=colors[i])))\n",
    "    print(conference, colors[i])\n",
    "    i+=1\n",
    "fig1.update_layout(\n",
    "    xaxis = dict(\n",
    "        side='top'\n",
    "    ),\n",
    "    height=600\n",
    ")\n",
    "fig1.show()\n",
    "    "
   ]
  },
  {
   "cell_type": "code",
   "execution_count": null,
   "metadata": {},
   "outputs": [],
   "source": []
  }
 ],
 "metadata": {
  "kernelspec": {
   "display_name": "Python 3",
   "language": "python",
   "name": "python3"
  },
  "language_info": {
   "codemirror_mode": {
    "name": "ipython",
    "version": 3
   },
   "file_extension": ".py",
   "mimetype": "text/x-python",
   "name": "python",
   "nbconvert_exporter": "python",
   "pygments_lexer": "ipython3",
   "version": "3.6.10"
  }
 },
 "nbformat": 4,
 "nbformat_minor": 4
}
