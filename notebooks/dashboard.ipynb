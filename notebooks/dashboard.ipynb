{
 "cells": [
  {
   "cell_type": "code",
   "execution_count": 2,
   "metadata": {},
   "outputs": [
    {
     "name": "stdout",
     "output_type": "stream",
     "text": [
      "['CALLS', 'COAUTHORS', 'POST', 'TRAVEL']\n"
     ]
    }
   ],
   "source": [
    "#Find the directories in data folder\n",
    "import os\n",
    "def listDirectories(path):\n",
    "    return [name for name in os.listdir(path) if os.path.isdir(os.path.join(path, name))]\n",
    "print(listDirectories('../data'))"
   ]
  },
  {
   "cell_type": "code",
   "execution_count": 3,
   "metadata": {},
   "outputs": [
    {
     "name": "stdout",
     "output_type": "stream",
     "text": [
      "['Calls.csv']\n"
     ]
    }
   ],
   "source": [
    "def listFiles(path):\n",
    "    for root, dirs, files in os.walk(path):\n",
    "        return files\n",
    "print(listFiles('../data/calls'))"
   ]
  },
  {
   "cell_type": "code",
   "execution_count": 4,
   "metadata": {},
   "outputs": [
    {
     "name": "stdout",
     "output_type": "stream",
     "text": [
      "../data/CALLS/Calls.csv\n",
      "../data/COAUTHORS/coauthors.csv\n",
      "../data/POST/Post.csv\n",
      "../data/TRAVEL/Travel.csv\n"
     ]
    }
   ],
   "source": [
    "path = '../data'\n",
    "file_list = []\n",
    "for directory in listDirectories(path):\n",
    "    for file in listFiles(path+'/'+directory):\n",
    "        channel = path+'/'+directory+'/'+file\n",
    "        file_list.append(channel)\n",
    "        print(channel)"
   ]
  },
  {
   "cell_type": "code",
   "execution_count": 7,
   "metadata": {},
   "outputs": [
    {
     "name": "stdout",
     "output_type": "stream",
     "text": [
      "['Source', 'Target', 'Time']\n",
      "['Source', 'Time', 'Conference', 'Paper']\n",
      "['Source', 'Target', 'Time', 'Duration']\n",
      "['Source', 'Time', 'Duration']\n",
      "['Patricio', 'Patricio', 'Paolo', 'Lino', 'Lino', 'Laurence', 'Carine', 'Elizabeth', 'Ann', 'Diego', 'Lino', 'Aria', 'Carine', 'Paolo', 'Roland', 'Janine', 'Patricio', 'Yang', 'Carine', 'Ann', 'Paolo', 'Aria', 'Laurence', 'Pedro', 'Carine', 'Hanna', 'Maria', 'Aria', 'Carine', 'Maria', 'Peter', 'Aria', 'Victoria', 'Roland', 'Sven', 'Francisco', 'Francisco', 'Patricio', 'Elizabeth', 'Laurence', 'Laurence', 'Francisco', 'Pedro', 'Janine', 'Janine', 'Diego', 'Sven', 'Aria', 'Francisco', 'Elizabeth', 'Lino', 'Yang', 'Pedro', 'Sven', 'Victoria', 'Diego', 'Paolo', 'Paolo', 'Carine', 'Elizabeth', 'Hanna', 'Maria', 'Maria', 'Laurence', 'Diego', 'Elizabeth', 'Victoria', 'Patricio', 'Paolo', 'Pedro', 'Elizabeth', 'Elizabeth', 'Elizabeth', 'Carine', 'Victoria', 'Roland', 'Sven', 'Patricio', 'Patricio', 'Maria', 'Diego', 'Victoria', 'Yang', 'Ann', 'Diego', 'Pedro', 'Roland', 'Lino', 'Ann', 'Patricio', 'Elizabeth', 'Elizabeth', 'Diego', 'Roland', 'Hanna', 'Elizabeth', 'Francisco', 'Aria', 'Maria', 'Yang', 'Jason Raphael Rambach', 'Paul Lesur', 'Alain Pagani', 'Didier Stricker', 'Didier Stricker', 'Kripasindhu Sarkar', 'Vladislav Golyanik', 'André Jonas', 'Didier Stricker', 'René Schuster', 'Oliver Wasenmüller', 'Christian Unger', 'Didier Stricker', 'Rohan Saxena', 'René Schuster', 'Oliver Wasenmüller', 'Didier Stricker', 'Yuriy Anisimov', 'Oliver Wasenmüller', 'Didier Stricker', 'Yuriy Anisimov', 'Oliver Wasenmüller', 'Didier Stricker', 'Yuriy Anisimov', 'Didier Stricker', 'Kripasindhu Sarkar', 'Kiran Varanasi', 'Didier Stricker', 'Basavaraj Hampiholi', 'Kripasindhu Sarkar', 'Kiran Varanasi', 'Didier Stricker', 'Kripasindhu Sarkar', 'Kiran Varanasi', 'Didier Stricker', 'Kripasindhu Sarkar', 'Kiran Varanasi', 'Didier Stricker', 'Kripasindhu Sarkar', 'Alain Pagani', 'Didier Stricker', 'Markus Miezal', 'Bertram Taetz', 'Norbert Schmitz', 'Gabriele Bleser', 'Christian Bailer', 'Bertram Taetz', 'Didier Stricker', 'Vladislav Golyanik', 'Bertram Taetz', 'Didier Stricker', 'Bertram Taetz', 'Gabriele Bleser', 'Vladislav Golyanik', 'Didier Stricker', 'Christian Bailer', 'Bertram Taetz', 'Didier Stricker', 'Vladislav Golyanik', 'Gerd Reis', 'Bertram Taetz', 'Didier Stricker', 'Oliver Wasenmüller', 'Gabriele Bleser', 'Didier Stricker', 'Oliver Wasenmüller', 'Gabriele Bleser', 'Didier Stricker', 'Aditya Tewari', 'Bertram Taetz', 'Frederic Grandidier', 'Didier Stricker', 'Aditya Tewari', 'Frederic Grandidier', 'Bertram Taetz', 'Didier Stricker', 'Jason Raphael Rambach', 'Aditya Tewari', 'Alain Pagani', 'Didier Stricker', 'Lino', 'Ann', 'Francisco', 'Paolo', 'Ann', 'Laurence', 'Janine', 'Pedro', 'Maria', 'Hanna', 'Elizabeth', 'Maria', 'Paolo', 'Paolo', 'Laurence', 'Peter', 'Lino', 'Hanna', 'Maria', 'Hanna', 'Janine', 'Carine', 'Maria', 'Maria', 'Elizabeth', 'Pedro', 'Elizabeth', 'Hanna', 'Lino', 'Janine', 'Diego', 'Aria', 'Patricio', 'Victoria', 'Yang', 'Elizabeth', 'Ann', 'Sven', 'Francisco', 'Elizabeth', 'Hanna', 'Hanna', 'Sven', 'Victoria', 'Elizabeth', 'Carine', 'Paolo', 'Sven', 'Ann', 'Francisco', 'Patricio', 'Carine', 'Patricio', 'Diego', 'Pedro', 'Aria', 'Roland', 'Laurence', 'Sven', 'Francisco', 'Elizabeth', 'Elizabeth', 'Aria', 'Yang', 'Lino', 'Patricio', 'Yang', 'Carine', 'Pedro', 'Pedro', 'Pedro', 'Sven', 'Lino', 'Patricio', 'Diego', 'Peter', 'Janine', 'Ann', 'Pedro', 'Pedro', 'Peter', 'Francisco', 'Sven', 'Ann', 'Maria', 'Yang', 'Yang', 'Hanna', 'Janine', 'Francisco', 'Diego', 'Elizabeth', 'Ann', 'Elizabeth', 'Roland', 'Janine', 'Paolo', 'Sven', 'Patricio', 'Janine', 'Victoria', 'Elizabeth', 'Francisco', 'Victoria', 'Victoria', 'Lino', 'Janine', 'Peter', 'Yang', 'Peter', 'Elizabeth', 'Ann', 'Sven', 'Victoria', 'Elizabeth', 'Elizabeth', 'Hanna', 'Carine', 'Peter', 'Yang', 'Maria', 'Paolo', 'Francisco', 'Yang', 'Elizabeth', 'Diego', 'Hanna', 'Laurence', 'Carine', 'Carine', 'Francisco', 'Hanna', 'Aria', 'Ann', 'Maria', 'Diego', 'Francisco', 'Elizabeth', 'Elizabeth', 'Laurence']\n"
     ]
    }
   ],
   "source": [
    "#detect type of transaction in a file\n",
    "import pandas as pd\n",
    "users = []\n",
    "for file in file_list:\n",
    "    df = pd.read_csv(file)\n",
    "    columns = df.columns.tolist()\n",
    "    print(columns)\n",
    "    if ('Time' and 'Duration') in columns:\n",
    "        if 'Source' and 'Target' in columns:\n",
    "            users.extend(df.Source)\n",
    "            users.extend(df.Target)\n",
    "            channel_type = 'INST'\n",
    "        else:\n",
    "            users.extend(df.Source)\n",
    "            channel_type = 'IT'\n",
    "    else:\n",
    "        users.extend(df.Source)\n",
    "        channel_type = 'IST'\n",
    "print(users)"
   ]
  },
  {
   "cell_type": "code",
   "execution_count": 32,
   "metadata": {},
   "outputs": [
    {
     "name": "stdout",
     "output_type": "stream",
     "text": [
      "True\n"
     ]
    }
   ],
   "source": [
    "a = ['a', 'b', 'c' ]\n",
    "print(('a' and 'b' and 'c') in a)"
   ]
  }
 ],
 "metadata": {
  "kernelspec": {
   "display_name": "Python 3",
   "language": "python",
   "name": "python3"
  },
  "language_info": {
   "codemirror_mode": {
    "name": "ipython",
    "version": 3
   },
   "file_extension": ".py",
   "mimetype": "text/x-python",
   "name": "python",
   "nbconvert_exporter": "python",
   "pygments_lexer": "ipython3",
   "version": "3.6.10"
  }
 },
 "nbformat": 4,
 "nbformat_minor": 4
}
